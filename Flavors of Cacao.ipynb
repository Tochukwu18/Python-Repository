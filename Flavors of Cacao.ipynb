{
 "cells": [
  {
   "cell_type": "code",
   "execution_count": 62,
   "id": "e464f6ec",
   "metadata": {},
   "outputs": [],
   "source": [
    "#Importing modules\n",
    "import numpy as np\n",
    "import pandas as pd\n",
    "import seaborn as sns\n",
    "import matplotlib.pyplot as plt\n",
    "%matplotlib inline"
   ]
  },
  {
   "cell_type": "code",
   "execution_count": 63,
   "id": "446eff5d",
   "metadata": {},
   "outputs": [],
   "source": [
    "#Reading in Dataframe\n",
    "data=pd.read_csv('flavors_of_cacao.csv')"
   ]
  },
  {
   "cell_type": "code",
   "execution_count": 64,
   "id": "c40d8411",
   "metadata": {},
   "outputs": [
    {
     "data": {
      "text/html": [
       "<div>\n",
       "<style scoped>\n",
       "    .dataframe tbody tr th:only-of-type {\n",
       "        vertical-align: middle;\n",
       "    }\n",
       "\n",
       "    .dataframe tbody tr th {\n",
       "        vertical-align: top;\n",
       "    }\n",
       "\n",
       "    .dataframe thead th {\n",
       "        text-align: right;\n",
       "    }\n",
       "</style>\n",
       "<table border=\"1\" class=\"dataframe\">\n",
       "  <thead>\n",
       "    <tr style=\"text-align: right;\">\n",
       "      <th></th>\n",
       "      <th>Company?ÿ\\n(Maker-if known)</th>\n",
       "      <th>Specific Bean Origin\\nor Bar Name</th>\n",
       "      <th>REF</th>\n",
       "      <th>Review\\nDate</th>\n",
       "      <th>Cocoa\\nPercent</th>\n",
       "      <th>Company\\nLocation</th>\n",
       "      <th>Rating</th>\n",
       "      <th>Bean\\nType</th>\n",
       "      <th>Broad Bean\\nOrigin</th>\n",
       "    </tr>\n",
       "  </thead>\n",
       "  <tbody>\n",
       "    <tr>\n",
       "      <th>0</th>\n",
       "      <td>A. Morin</td>\n",
       "      <td>Agua Grande</td>\n",
       "      <td>1876</td>\n",
       "      <td>2016</td>\n",
       "      <td>63%</td>\n",
       "      <td>France</td>\n",
       "      <td>3.75</td>\n",
       "      <td>?ÿ</td>\n",
       "      <td>Sao Tome</td>\n",
       "    </tr>\n",
       "    <tr>\n",
       "      <th>1</th>\n",
       "      <td>A. Morin</td>\n",
       "      <td>Kpime</td>\n",
       "      <td>1676</td>\n",
       "      <td>2015</td>\n",
       "      <td>70%</td>\n",
       "      <td>France</td>\n",
       "      <td>2.75</td>\n",
       "      <td>?ÿ</td>\n",
       "      <td>Togo</td>\n",
       "    </tr>\n",
       "  </tbody>\n",
       "</table>\n",
       "</div>"
      ],
      "text/plain": [
       "  Company?ÿ\\n(Maker-if known) Specific Bean Origin\\nor Bar Name   REF  \\\n",
       "0                    A. Morin                       Agua Grande  1876   \n",
       "1                    A. Morin                             Kpime  1676   \n",
       "\n",
       "   Review\\nDate Cocoa\\nPercent Company\\nLocation  Rating Bean\\nType  \\\n",
       "0          2016            63%            France    3.75         ?ÿ   \n",
       "1          2015            70%            France    2.75         ?ÿ   \n",
       "\n",
       "  Broad Bean\\nOrigin  \n",
       "0           Sao Tome  \n",
       "1               Togo  "
      ]
     },
     "execution_count": 64,
     "metadata": {},
     "output_type": "execute_result"
    }
   ],
   "source": [
    "#Head of Data\n",
    "data.head(2)"
   ]
  },
  {
   "cell_type": "code",
   "execution_count": 65,
   "id": "a5ed02e9",
   "metadata": {},
   "outputs": [
    {
     "data": {
      "text/html": [
       "<div>\n",
       "<style scoped>\n",
       "    .dataframe tbody tr th:only-of-type {\n",
       "        vertical-align: middle;\n",
       "    }\n",
       "\n",
       "    .dataframe tbody tr th {\n",
       "        vertical-align: top;\n",
       "    }\n",
       "\n",
       "    .dataframe thead th {\n",
       "        text-align: right;\n",
       "    }\n",
       "</style>\n",
       "<table border=\"1\" class=\"dataframe\">\n",
       "  <thead>\n",
       "    <tr style=\"text-align: right;\">\n",
       "      <th></th>\n",
       "      <th>Company?ÿ\\n(Maker-if known)</th>\n",
       "      <th>Specific Bean Origin\\nor Bar Name</th>\n",
       "      <th>REF</th>\n",
       "      <th>Review\\nDate</th>\n",
       "      <th>Cocoa\\nPercent</th>\n",
       "      <th>Company\\nLocation</th>\n",
       "      <th>Rating</th>\n",
       "      <th>Bean\\nType</th>\n",
       "      <th>Broad Bean\\nOrigin</th>\n",
       "    </tr>\n",
       "  </thead>\n",
       "  <tbody>\n",
       "    <tr>\n",
       "      <th>1793</th>\n",
       "      <td>Zotter</td>\n",
       "      <td>Kerala State</td>\n",
       "      <td>781</td>\n",
       "      <td>2011</td>\n",
       "      <td>62%</td>\n",
       "      <td>Austria</td>\n",
       "      <td>3.25</td>\n",
       "      <td>?ÿ</td>\n",
       "      <td>India</td>\n",
       "    </tr>\n",
       "    <tr>\n",
       "      <th>1794</th>\n",
       "      <td>Zotter</td>\n",
       "      <td>Brazil, Mitzi Blue</td>\n",
       "      <td>486</td>\n",
       "      <td>2010</td>\n",
       "      <td>65%</td>\n",
       "      <td>Austria</td>\n",
       "      <td>3.00</td>\n",
       "      <td>?ÿ</td>\n",
       "      <td>Brazil</td>\n",
       "    </tr>\n",
       "  </tbody>\n",
       "</table>\n",
       "</div>"
      ],
      "text/plain": [
       "     Company?ÿ\\n(Maker-if known) Specific Bean Origin\\nor Bar Name  REF  \\\n",
       "1793                      Zotter                      Kerala State  781   \n",
       "1794                      Zotter                Brazil, Mitzi Blue  486   \n",
       "\n",
       "      Review\\nDate Cocoa\\nPercent Company\\nLocation  Rating Bean\\nType  \\\n",
       "1793          2011            62%           Austria    3.25         ?ÿ   \n",
       "1794          2010            65%           Austria    3.00         ?ÿ   \n",
       "\n",
       "     Broad Bean\\nOrigin  \n",
       "1793              India  \n",
       "1794             Brazil  "
      ]
     },
     "execution_count": 65,
     "metadata": {},
     "output_type": "execute_result"
    }
   ],
   "source": [
    "#Tail of data\n",
    "data.tail(2)"
   ]
  },
  {
   "cell_type": "code",
   "execution_count": 66,
   "id": "644d336e",
   "metadata": {},
   "outputs": [
    {
     "data": {
      "text/plain": [
       "(1795, 9)"
      ]
     },
     "execution_count": 66,
     "metadata": {},
     "output_type": "execute_result"
    }
   ],
   "source": [
    "#Shape of Data\n",
    "data.shape"
   ]
  },
  {
   "cell_type": "code",
   "execution_count": 67,
   "id": "ab99e619",
   "metadata": {},
   "outputs": [
    {
     "data": {
      "text/plain": [
       "16155"
      ]
     },
     "execution_count": 67,
     "metadata": {},
     "output_type": "execute_result"
    }
   ],
   "source": [
    "#Size of dataframe\n",
    "data.size"
   ]
  },
  {
   "cell_type": "code",
   "execution_count": 84,
   "id": "1ed77775",
   "metadata": {},
   "outputs": [
    {
     "name": "stdout",
     "output_type": "stream",
     "text": [
      "<class 'pandas.core.frame.DataFrame'>\n",
      "RangeIndex: 1795 entries, 0 to 1794\n",
      "Data columns (total 9 columns):\n",
      " #   Column                    Non-Null Count  Dtype  \n",
      "---  ------                    --------------  -----  \n",
      " 0   Company (Maker If Known)  1795 non-null   object \n",
      " 1   Specific Bean Origin      1795 non-null   object \n",
      " 2   REF                       1795 non-null   int64  \n",
      " 3   Date                      1795 non-null   int64  \n",
      " 4   Percentage of Cocoa       1795 non-null   object \n",
      " 5   Company's Location        1795 non-null   object \n",
      " 6   Rating                    1795 non-null   float64\n",
      " 7   Bean Type                 1795 non-null   object \n",
      " 8   Broad Bean Origin         1795 non-null   object \n",
      "dtypes: float64(1), int64(2), object(6)\n",
      "memory usage: 126.3+ KB\n"
     ]
    }
   ],
   "source": [
    "#Information about columns\n",
    "data.info()"
   ]
  },
  {
   "cell_type": "code",
   "execution_count": 70,
   "id": "9c6f9876",
   "metadata": {},
   "outputs": [
    {
     "data": {
      "text/plain": [
       "Index(['Company?ÿ\\n(Maker-if known)', 'Specific Bean Origin\\nor Bar Name',\n",
       "       'REF', 'Review\\nDate', 'Cocoa\\nPercent', 'Company\\nLocation', 'Rating',\n",
       "       'Bean\\nType', 'Broad Bean\\nOrigin'],\n",
       "      dtype='object')"
      ]
     },
     "execution_count": 70,
     "metadata": {},
     "output_type": "execute_result"
    }
   ],
   "source": [
    "data.columns"
   ]
  },
  {
   "cell_type": "code",
   "execution_count": 71,
   "id": "4fac6e58",
   "metadata": {},
   "outputs": [
    {
     "data": {
      "text/html": [
       "<div>\n",
       "<style scoped>\n",
       "    .dataframe tbody tr th:only-of-type {\n",
       "        vertical-align: middle;\n",
       "    }\n",
       "\n",
       "    .dataframe tbody tr th {\n",
       "        vertical-align: top;\n",
       "    }\n",
       "\n",
       "    .dataframe thead th {\n",
       "        text-align: right;\n",
       "    }\n",
       "</style>\n",
       "<table border=\"1\" class=\"dataframe\">\n",
       "  <thead>\n",
       "    <tr style=\"text-align: right;\">\n",
       "      <th></th>\n",
       "      <th>REF</th>\n",
       "      <th>Review\\nDate</th>\n",
       "      <th>Rating</th>\n",
       "    </tr>\n",
       "  </thead>\n",
       "  <tbody>\n",
       "    <tr>\n",
       "      <th>count</th>\n",
       "      <td>1795.000000</td>\n",
       "      <td>1795.000000</td>\n",
       "      <td>1795.000000</td>\n",
       "    </tr>\n",
       "    <tr>\n",
       "      <th>mean</th>\n",
       "      <td>1035.904735</td>\n",
       "      <td>2012.325348</td>\n",
       "      <td>3.185933</td>\n",
       "    </tr>\n",
       "    <tr>\n",
       "      <th>std</th>\n",
       "      <td>552.886365</td>\n",
       "      <td>2.927210</td>\n",
       "      <td>0.478062</td>\n",
       "    </tr>\n",
       "    <tr>\n",
       "      <th>min</th>\n",
       "      <td>5.000000</td>\n",
       "      <td>2006.000000</td>\n",
       "      <td>1.000000</td>\n",
       "    </tr>\n",
       "    <tr>\n",
       "      <th>25%</th>\n",
       "      <td>576.000000</td>\n",
       "      <td>2010.000000</td>\n",
       "      <td>2.875000</td>\n",
       "    </tr>\n",
       "    <tr>\n",
       "      <th>50%</th>\n",
       "      <td>1069.000000</td>\n",
       "      <td>2013.000000</td>\n",
       "      <td>3.250000</td>\n",
       "    </tr>\n",
       "    <tr>\n",
       "      <th>75%</th>\n",
       "      <td>1502.000000</td>\n",
       "      <td>2015.000000</td>\n",
       "      <td>3.500000</td>\n",
       "    </tr>\n",
       "    <tr>\n",
       "      <th>max</th>\n",
       "      <td>1952.000000</td>\n",
       "      <td>2017.000000</td>\n",
       "      <td>5.000000</td>\n",
       "    </tr>\n",
       "  </tbody>\n",
       "</table>\n",
       "</div>"
      ],
      "text/plain": [
       "               REF  Review\\nDate       Rating\n",
       "count  1795.000000   1795.000000  1795.000000\n",
       "mean   1035.904735   2012.325348     3.185933\n",
       "std     552.886365      2.927210     0.478062\n",
       "min       5.000000   2006.000000     1.000000\n",
       "25%     576.000000   2010.000000     2.875000\n",
       "50%    1069.000000   2013.000000     3.250000\n",
       "75%    1502.000000   2015.000000     3.500000\n",
       "max    1952.000000   2017.000000     5.000000"
      ]
     },
     "execution_count": 71,
     "metadata": {},
     "output_type": "execute_result"
    }
   ],
   "source": [
    "data.describe()"
   ]
  },
  {
   "cell_type": "code",
   "execution_count": 72,
   "id": "b77f72a9",
   "metadata": {},
   "outputs": [
    {
     "data": {
      "text/plain": [
       "Company?ÿ\\n(Maker-if known)          0\n",
       "Specific Bean Origin\\nor Bar Name    0\n",
       "REF                                  0\n",
       "Review\\nDate                         0\n",
       "Cocoa\\nPercent                       0\n",
       "Company\\nLocation                    0\n",
       "Rating                               0\n",
       "Bean\\nType                           1\n",
       "Broad Bean\\nOrigin                   1\n",
       "dtype: int64"
      ]
     },
     "execution_count": 72,
     "metadata": {},
     "output_type": "execute_result"
    }
   ],
   "source": [
    "#Checking for null values as part of data cleaning process\n",
    "data.isnull().sum()"
   ]
  },
  {
   "cell_type": "code",
   "execution_count": 73,
   "id": "26876a62",
   "metadata": {},
   "outputs": [],
   "source": [
    "#Filling in the null values as part of data cleaning process\n",
    "data.fillna(value=0, inplace=True)"
   ]
  },
  {
   "cell_type": "code",
   "execution_count": 74,
   "id": "909a26e7",
   "metadata": {},
   "outputs": [
    {
     "data": {
      "text/plain": [
       "Company?ÿ\\n(Maker-if known)          0\n",
       "Specific Bean Origin\\nor Bar Name    0\n",
       "REF                                  0\n",
       "Review\\nDate                         0\n",
       "Cocoa\\nPercent                       0\n",
       "Company\\nLocation                    0\n",
       "Rating                               0\n",
       "Bean\\nType                           0\n",
       "Broad Bean\\nOrigin                   0\n",
       "dtype: int64"
      ]
     },
     "execution_count": 74,
     "metadata": {},
     "output_type": "execute_result"
    }
   ],
   "source": [
    "data.isnull().sum()"
   ]
  },
  {
   "cell_type": "code",
   "execution_count": 75,
   "id": "e9150bb8",
   "metadata": {},
   "outputs": [],
   "source": [
    "#Renaming Columns as part of data cleaning\n",
    "data.rename(columns={'Company?ÿ\\n(Maker-if known)': \"Company (Maker If Known)\"}, inplace=True)\n",
    "data.rename(columns={'Specific Bean Origin\\nor Bar Name': \"Specific Bean Origin\"}, inplace=True)\n",
    "data.rename(columns={'Review\\nDate': \"Date\"}, inplace=True)\n",
    "data.rename(columns={'Cocoa\\nPercent': \"Percentage of Cocoa\"}, inplace=True)\n",
    "data.rename(columns={'Company\\nLocation': \"Company's Location\"}, inplace=True)\n",
    "data.rename(columns={'Bean\\nType': \"Bean Type\"}, inplace=True)\n",
    "data.rename(columns={'Broad Bean\\nOrigin': \"Broad Bean Origin\"}, inplace=True)"
   ]
  },
  {
   "cell_type": "code",
   "execution_count": 76,
   "id": "8fa455e5",
   "metadata": {},
   "outputs": [
    {
     "data": {
      "text/html": [
       "<div>\n",
       "<style scoped>\n",
       "    .dataframe tbody tr th:only-of-type {\n",
       "        vertical-align: middle;\n",
       "    }\n",
       "\n",
       "    .dataframe tbody tr th {\n",
       "        vertical-align: top;\n",
       "    }\n",
       "\n",
       "    .dataframe thead th {\n",
       "        text-align: right;\n",
       "    }\n",
       "</style>\n",
       "<table border=\"1\" class=\"dataframe\">\n",
       "  <thead>\n",
       "    <tr style=\"text-align: right;\">\n",
       "      <th></th>\n",
       "      <th>Company (Maker If Known)</th>\n",
       "      <th>Specific Bean Origin</th>\n",
       "      <th>REF</th>\n",
       "      <th>Date</th>\n",
       "      <th>Percentage of Cocoa</th>\n",
       "      <th>Company's Location</th>\n",
       "      <th>Rating</th>\n",
       "      <th>Bean Type</th>\n",
       "      <th>Broad Bean Origin</th>\n",
       "    </tr>\n",
       "  </thead>\n",
       "  <tbody>\n",
       "  </tbody>\n",
       "</table>\n",
       "</div>"
      ],
      "text/plain": [
       "Empty DataFrame\n",
       "Columns: [Company (Maker If Known), Specific Bean Origin, REF, Date, Percentage of Cocoa, Company's Location, Rating, Bean Type, Broad Bean Origin]\n",
       "Index: []"
      ]
     },
     "execution_count": 76,
     "metadata": {},
     "output_type": "execute_result"
    }
   ],
   "source": [
    "#Confirming that column names have been changed\n",
    "data.head(0)"
   ]
  },
  {
   "cell_type": "code",
   "execution_count": 55,
   "id": "b665cca0",
   "metadata": {},
   "outputs": [
    {
     "name": "stdout",
     "output_type": "stream",
     "text": [
      "['A. Morin' 'Acalli' 'Adi' 'Aequare (Gianduja)' 'Ah Cacao'\n",
      " \"Akesson's (Pralus)\" 'Alain Ducasse' 'Alexandre' 'Altus aka Cao Artisan'\n",
      " 'Amano' 'Amatller (Simon Coll)' 'Amazona' 'Ambrosia' 'Amedei' 'AMMA'\n",
      " 'Anahata' 'Animas' 'Ara' 'Arete' 'Artisan du Chocolat'\n",
      " 'Artisan du Chocolat (Casa Luker)' 'Askinosie' 'Bahen & Co.' 'Bakau'\n",
      " 'Bar Au Chocolat' \"Baravelli's\" 'Batch' 'Beau Cacao' 'Beehive'\n",
      " 'Belcolade' 'Bellflower' 'Belyzium' 'Benoit Nihant' 'Bernachon'\n",
      " 'Beschle (Felchlin)' 'Bisou' 'Bittersweet Origins' 'Black Mountain'\n",
      " 'Black River (A. Morin)' 'Blanxart' 'Blue Bandana' 'Bonnat'\n",
      " 'Bouga Cacao (Tulicorp)' 'Bowler Man' \"Brasstown aka It's Chocolate\"\n",
      " 'Brazen' 'Breeze Mill' 'Bright' 'Britarev' 'Bronx Grrl Chocolate'\n",
      " 'Burnt Fork Bend' 'Cacao Arabuco' 'Cacao Atlanta' 'Cacao Barry'\n",
      " 'Cacao de Origen' 'Cacao de Origin' 'Cacao Hunters' 'Cacao Market'\n",
      " 'Cacao Prieto' 'Cacao Sampaka' 'Cacao Store'\n",
      " 'Cacaosuyo (Theobroma Inversiones)' 'Cacaoyere (Ecuatoriana)' 'Callebaut'\n",
      " 'C-Amaro' 'Cao' 'Caoni (Tulicorp)' 'Captain Pembleton' 'Caribeans'\n",
      " 'Carlotta Chocolat' 'Castronovo' 'Cello' 'Cemoi' 'Chaleur B'\n",
      " 'Charm School' 'Chchukululu (Tulicorp)' 'Chequessett' 'Chloe Chocolat'\n",
      " 'Chocablog' 'Choco Del Sol' 'Choco Dong' 'Chocolarder' \"Chocola'te\"\n",
      " 'Chocolate Alchemist-Philly' 'Chocolate Con Amor' 'Chocolate Conspiracy'\n",
      " 'Chocolate Makers' 'Chocolate Tree, The' 'Chocolats Privilege'\n",
      " 'ChocoReko' 'Chocosol' 'Chocovic' 'Chocovivo' 'Choklat'\n",
      " 'Chokolat Elot (Girard)' 'Choocsol' 'Christopher Morel (Felchlin)'\n",
      " 'Chuao Chocolatier' 'Chuao Chocolatier (Pralus)' 'Claudio Corallo'\n",
      " 'Cloudforest' 'Coleman & Davis' 'Compania de Chocolate (Salgado)'\n",
      " 'Condor' 'Confluence' 'Coppeneur' \"Cote d' Or (Kraft)\" 'Cravve' 'Creo'\n",
      " 'Daintree' 'Dalloway' 'Damson' 'Dandelion' 'Danta' 'DAR' 'Dark Forest'\n",
      " 'Davis' 'De Mendes' 'De Villiers' 'Dean and Deluca (Belcolade)'\n",
      " 'Debauve & Gallais (Michel Cluizel)' 'Desbarres' 'DeVries' 'Dick Taylor'\n",
      " 'Doble & Bignall' 'Dole (Guittard)' 'Dolfin (Belcolade)' 'Domori'\n",
      " 'Dormouse' \"Duffy's\" 'Dulcinea' 'Durand' 'Durci' 'East Van Roasters'\n",
      " 'Eau de Rose' 'Eclat (Felchlin)' 'Edelmond' 'El Ceibo' 'El Rey'\n",
      " 'Emerald Estate' \"Emily's\" 'ENNA' 'Enric Rovira (Claudio Corallo)'\n",
      " 'Erithaj (A. Morin)' 'Escazu' \"Ethel's Artisan (Mars)\" 'Ethereal'\n",
      " 'Fearless (AMMA)' 'Feitoria Cacao' 'Felchlin' 'Finca' 'Forever Cacao'\n",
      " 'Forteza (Cortes)' 'Fossa' 'Franceschi' 'Frederic Blondeel'\n",
      " 'French Broad' 'Fresco' 'Friis Holm' 'Friis Holm (Bonnat)' 'Fruition'\n",
      " 'Garden Island' 'Georgia Ramon' 'Glennmade' 'Goodnow Farms' 'Grand Place'\n",
      " \"Green & Black's (ICAM)\" 'Green Bean to Bar' 'Grenada Chocolate Co.'\n",
      " 'Guido Castagna' 'Guittard' 'Habitual' 'Hachez' 'Hacienda El Castillo'\n",
      " 'Haigh' 'Harper Macaw' 'Heilemann'\n",
      " 'Heirloom Cacao Preservation (Brasstown)'\n",
      " 'Heirloom Cacao Preservation (Fruition)'\n",
      " 'Heirloom Cacao Preservation (Guittard)'\n",
      " 'Heirloom Cacao Preservation (Manoa)'\n",
      " 'Heirloom Cacao Preservation (Millcreek)'\n",
      " 'Heirloom Cacao Preservation (Mindo)'\n",
      " 'Heirloom Cacao Preservation (Zokoko)' 'hello cocoa' 'hexx' 'Hogarth'\n",
      " 'Hoja Verde (Tulicorp)' 'Holy Cacao' 'Honest' 'Hotel Chocolat'\n",
      " 'Hotel Chocolat (Coppeneur)' 'Hummingbird' 'Idilio (Felchlin)' 'Indah'\n",
      " 'Indaphoria' 'Indi' 'iQ Chocolate' 'Isidro' 'Izard' 'Jacque Torres'\n",
      " 'Jordis' 'Just Good Chocolate' 'Kah Kow' 'Kakao' 'Kallari (Ecuatoriana)'\n",
      " 'Kaoka (Cemoi)' 'Kerchner' \"Ki' Xocolatl\" 'Kiskadee' 'Kto' \"K'ul\" 'Kyya'\n",
      " 'L.A. Burdick (Felchlin)' 'La Chocolaterie Nanairo'\n",
      " 'La Maison du Chocolat (Valrhona)' 'La Oroquidea' 'La Pepa de Oro'\n",
      " 'Laia aka Chat-Noir' 'Lajedo do Ouro' 'Lake Champlain (Callebaut)'\n",
      " \"L'Amourette\" 'Letterpress' 'Levy' 'Lilla' 'Lillie Belle'\n",
      " 'Lindt & Sprungli' 'Loiza' 'Lonohana' 'Love Bar' 'Luker'\n",
      " 'Machu Picchu Trading Co.' 'Madecasse (Cinagra)' 'Madre' 'Maglio'\n",
      " 'Majani' 'Malagasy (Chocolaterie Robert)' 'Malagos'\n",
      " 'Malie Kai (Guittard)' 'Malmo' 'Mana' 'Manifesto Cacao' 'Manoa'\n",
      " 'Manufaktura Czekolady' 'Map Chocolate' 'Marana' \"Marigold's Finest\"\n",
      " 'Marou' 'Mars' 'Marsatta' 'Martin Mayer' 'Mast Brothers' 'Matale'\n",
      " 'Maverick' 'Mayacama' 'Meadowlands' 'Menakao (aka Cinagra)' 'Mesocacao'\n",
      " 'Metiisto' 'Metropolitan' 'Michel Cluizel' 'Middlebury'\n",
      " 'Millcreek Cacao Roasters' 'Mindo' 'Minimal' 'Mission' 'Mita' 'Moho'\n",
      " 'Molucca' 'Momotombo' 'Monarque' 'Monsieur Truffe' 'Montecristi'\n",
      " 'Muchomas (Mesocacao)' 'Mutari' 'Nahua' 'Naive' 'Na‹¨«ve' 'Nanea'\n",
      " 'Nathan Miller' 'Neuhaus (Callebaut)' 'Nibble' 'Night Owl'\n",
      " 'Noble Bean aka Jerjobo' \"Noir d' Ebine\" 'Nova Monda' 'Nuance' 'Nugali'\n",
      " 'Oakland Chocolate Co.' 'Obolo' 'Ocelot' 'Ocho' 'Ohiyo'\n",
      " 'Oialla by Bojessen (Malmo)' 'Olive and Sinclair' 'Olivia' 'Omanhene'\n",
      " 'Omnom' 'organicfair' 'Original Beans (Felchlin)'\n",
      " 'Original Hawaiin Chocolate Factory' 'Orquidea' 'Pacari'\n",
      " 'Palette de Bine' 'Pangea' 'Park 75' 'Parliament' 'Pascha' 'Patric'\n",
      " 'Paul Young' 'Peppalo' 'Pierre Marcolini' 'Pinellas' 'Pitch Dark'\n",
      " 'Pomm (aka Dead Dog)' 'Potomac' 'Pralus' 'Pump Street Bakery'\n",
      " 'Pura Delizia' 'Q Chocolate' 'Quetzalli (Wolter)' 'Raaka' 'Rain Republic'\n",
      " 'Rancho San Jacinto' 'Ranger' 'Raoul Boulanger' 'Raw Cocoa'\n",
      " 'Republica del Cacao (aka Confecta)' 'Ritual' 'Roasting Masters'\n",
      " 'Robert (aka Chocolaterie Robert)' 'Rococo (Grenada Chocolate Co.)'\n",
      " 'Rogue' 'Rozsavolgyi' 'S.A.I.D.' 'Sacred' 'Salgado'\n",
      " 'Santander (Compania Nacional)' 'Santome' 'Scharffen Berger' 'Seaforth'\n",
      " 'Shark Mountain' \"Shark's\" 'Shattel' 'Shattell' 'Sibu' 'Sibu Sura'\n",
      " 'Silvio Bessone' 'Sirene' 'Sjolinds' 'Smooth Chocolator, The'\n",
      " 'Snake & Butterfly' 'Sol Cacao' 'Solkiki' 'Solomons Gold' 'Solstice'\n",
      " 'Soma' 'Somerville' 'Soul' 'Spagnvola' 'Spencer' 'Sprungli (Felchlin)'\n",
      " 'SRSLY' 'Starchild' 'Stella (aka Bernrain)' 'Stone Grindz'\n",
      " 'StRita Supreme' 'Sublime Origins' 'Summerbird' 'Suruca Chocolate'\n",
      " 'Svenska Kakaobolaget' 'Szanto Tibor' 'Tabal'\n",
      " 'Tablette (aka Vanillabeans)' 'Tan Ban Skrati' 'Taza' 'TCHO' 'Tejas'\n",
      " 'Terroir' 'The Barn' 'Theo' 'Theobroma' 'Timo A. Meyer'\n",
      " \"To'ak (Ecuatoriana)\" 'Tobago Estate (Pralus)' 'Tocoti' 'Treehouse'\n",
      " 'Tsara (Cinagra)' 'twenty-four blackbirds' 'Two Ravens'\n",
      " 'Un Dimanche A Paris' 'Undone' 'Upchurch' 'Urzi' 'Valrhona'\n",
      " 'Vanleer (Barry Callebaut)' 'Vao Vao (Chocolaterie Robert)' 'Vicuna'\n",
      " 'Videri' 'Vietcacao (A. Morin)' 'Vintage Plantations'\n",
      " 'Vintage Plantations (Tulicorp)' 'Violet Sky' 'Vivra'\n",
      " 'Wellington Chocolate Factory' 'Whittakers' \"Wilkie's Organic\"\n",
      " \"Willie's Cacao\" 'Wm' 'Woodblock' 'Xocolat' 'Xocolla' \"Zak's\"\n",
      " 'Zart Pralinen' 'Zokoko' 'Zotter']\n",
      "Soma      47\n",
      "Bonnat    27\n",
      "Fresco    26\n",
      "Name: Company (Maker If Known), dtype: int64\n"
     ]
    }
   ],
   "source": [
    "#Checking for categorical columns \n",
    "print(data['Company (Maker If Known)'].unique())\n",
    "print(data['Company (Maker If Known)'].value_counts().head(3))"
   ]
  },
  {
   "cell_type": "code",
   "execution_count": 97,
   "id": "8e475295",
   "metadata": {},
   "outputs": [
    {
     "name": "stdout",
     "output_type": "stream",
     "text": [
      "['Agua Grande' 'Kpime' 'Atsane' ... 'Indianer, Raw' 'Kerala State'\n",
      " 'Brazil, Mitzi Blue']\n",
      "Madagascar    57\n",
      "Peru          45\n",
      "Name: Specific Bean Origin, dtype: int64\n"
     ]
    }
   ],
   "source": [
    "#Checking for categorical columns \n",
    "print(data['Specific Bean Origin'].unique())\n",
    "print(data['Specific Bean Origin'].value_counts().head(2))"
   ]
  },
  {
   "cell_type": "code",
   "execution_count": 96,
   "id": "57598077",
   "metadata": {},
   "outputs": [
    {
     "name": "stdout",
     "output_type": "stream",
     "text": [
      "U.S.A.    764\n",
      "France    156\n",
      "Name: Company's Location, dtype: int64\n",
      "['France' 'U.S.A.' 'Fiji' 'Ecuador' 'Mexico' 'Switzerland' 'Netherlands'\n",
      " 'Spain' 'Peru' 'Canada' 'Italy' 'Brazil' 'U.K.' 'Australia' 'Wales'\n",
      " 'Belgium' 'Germany' 'Russia' 'Puerto Rico' 'Venezuela' 'Colombia' 'Japan'\n",
      " 'New Zealand' 'Costa Rica' 'South Korea' 'Amsterdam' 'Scotland'\n",
      " 'Martinique' 'Sao Tome' 'Argentina' 'Guatemala' 'South Africa' 'Bolivia'\n",
      " 'St. Lucia' 'Portugal' 'Singapore' 'Denmark' 'Vietnam' 'Grenada' 'Israel'\n",
      " 'India' 'Czech Republic' 'Domincan Republic' 'Finland' 'Madagascar'\n",
      " 'Philippines' 'Sweden' 'Poland' 'Austria' 'Honduras' 'Nicaragua'\n",
      " 'Lithuania' 'Niacragua' 'Chile' 'Ghana' 'Iceland' 'Eucador' 'Hungary'\n",
      " 'Suriname' 'Ireland']\n"
     ]
    }
   ],
   "source": [
    "#Checking for categorical columns \n",
    "print(data[\"Company's Location\"].value_counts().head(2))\n",
    "print(data[\"Company's Location\"].unique())"
   ]
  },
  {
   "cell_type": "code",
   "execution_count": 83,
   "id": "eda68b7d",
   "metadata": {},
   "outputs": [
    {
     "name": "stdout",
     "output_type": "stream",
     "text": [
      "['Sao Tome' 'Togo' 'Peru' 'Venezuela' 'Cuba' 'Panama' 'Madagascar'\n",
      " 'Brazil' 'Ecuador' 'Colombia' 'Burma' 'Papua New Guinea' 'Bolivia' 'Fiji'\n",
      " 'Mexico' 'Indonesia' 'Trinidad' 'Vietnam' 'Nicaragua' 'Tanzania'\n",
      " 'Dominican Republic' 'Ghana' 'Belize' '?ÿ' 'Jamaica' 'Grenada'\n",
      " 'Guatemala' 'Honduras' 'Costa Rica' 'Domincan Republic' 'Haiti' 'Congo'\n",
      " 'Philippines' 'Malaysia' 'Dominican Rep., Bali'\n",
      " 'Venez,Africa,Brasil,Peru,Mex' 'Gabon' 'Ivory Coast' 'Carribean'\n",
      " 'Sri Lanka' 'Puerto Rico' 'Uganda' 'Martinique' 'Sao Tome & Principe'\n",
      " 'Vanuatu' 'Australia' 'Liberia' 'Ecuador, Costa Rica' 'West Africa'\n",
      " 'Hawaii' 'St. Lucia' 'Cost Rica, Ven' 'Peru, Madagascar'\n",
      " 'Venezuela, Trinidad' 'Trinidad, Tobago' 'Ven, Trinidad, Ecuador'\n",
      " 'South America, Africa' 'India' 'Africa, Carribean, C. Am.' 'Tobago'\n",
      " 'Ven., Indonesia, Ecuad.' 'Trinidad-Tobago' 'Peru, Ecuador, Venezuela'\n",
      " 'Venezuela, Dom. Rep.' 'Colombia, Ecuador' 'Solomon Islands' 'Nigeria'\n",
      " 'Peru, Belize' 'Peru, Mad., Dom. Rep.' 0 'PNG, Vanuatu, Mad'\n",
      " 'El Salvador' 'South America' 'Samoa' 'Ghana, Domin. Rep'\n",
      " 'Trinidad, Ecuador' 'Cameroon' 'Venezuela, Java' 'Venezuela/ Ghana'\n",
      " 'Venezuela, Ghana' 'Indonesia, Ghana' 'Peru(SMartin,Pangoa,nacional)'\n",
      " 'Principe' 'Central and S. America' 'Ven., Trinidad, Mad.'\n",
      " 'Carribean(DR/Jam/Tri)' 'Ghana & Madagascar' 'Ven.,Ecu.,Peru,Nic.'\n",
      " 'Madagascar & Ecuador' 'Guat., D.R., Peru, Mad., PNG' 'Peru, Dom. Rep'\n",
      " 'Dom. Rep., Madagascar' 'Gre., PNG, Haw., Haiti, Mad' 'Mad., Java, PNG'\n",
      " 'Ven, Bolivia, D.R.' 'DR, Ecuador, Peru' 'Suriname' 'Peru, Ecuador'\n",
      " 'Ecuador, Mad., PNG' 'Ghana, Panama, Ecuador' 'Venezuela, Carribean']\n",
      "Venezuela                214\n",
      "Ecuador                  193\n",
      "Peru                     165\n",
      "Madagascar               145\n",
      "Dominican Republic       141\n",
      "                        ... \n",
      "Peru, Belize               1\n",
      "Peru, Mad., Dom. Rep.      1\n",
      "0                          1\n",
      "PNG, Vanuatu, Mad          1\n",
      "Venezuela, Carribean       1\n",
      "Name: Broad Bean Origin, Length: 101, dtype: int64\n"
     ]
    }
   ],
   "source": [
    "print(data['Broad Bean Origin'].unique())\n",
    "print(data['Broad Bean Origin'].value_counts())"
   ]
  },
  {
   "cell_type": "code",
   "execution_count": 106,
   "id": "8ef556f9",
   "metadata": {},
   "outputs": [
    {
     "name": "stdout",
     "output_type": "stream",
     "text": [
      "[2016 2015 2014 2013 2012 2011 2009 2010 2017 2008 2007 2006]\n",
      "2015    285\n",
      "2014    247\n",
      "Name: Date, dtype: int64\n"
     ]
    }
   ],
   "source": [
    "print(data['Date'].unique())\n",
    "print(data['Date'].value_counts().head(2))"
   ]
  },
  {
   "cell_type": "code",
   "execution_count": 109,
   "id": "77b2e62f",
   "metadata": {},
   "outputs": [
    {
     "name": "stderr",
     "output_type": "stream",
     "text": [
      "C:\\Users\\JOEL\\anaconda3\\lib\\site-packages\\seaborn\\_decorators.py:36: FutureWarning: Pass the following variable as a keyword arg: x. From version 0.12, the only valid positional argument will be `data`, and passing other arguments without an explicit keyword will result in an error or misinterpretation.\n",
      "  warnings.warn(\n"
     ]
    },
    {
     "data": {
      "text/plain": [
       "<AxesSubplot:xlabel='Date', ylabel='count'>"
      ]
     },
     "execution_count": 109,
     "metadata": {},
     "output_type": "execute_result"
    },
    {
     "data": {
      "image/png": "[encoded data removed]",
      "text/plain": [
       "<Figure size 720x288 with 1 Axes>"
      ]
     },
     "metadata": {
      "needs_background": "light"
     },
     "output_type": "display_data"
    }
   ],
   "source": [
    "#2015 has the most occurence in the dataset\n",
    "plt.figure(figsize=(10,4))\n",
    "sns.countplot(\"Date\", data=data,color='blue', saturation=0.35)"
   ]
  },
  {
   "cell_type": "markdown",
   "id": "e18e3494",
   "metadata": {},
   "source": [
    "# Ongoing "
   ]
  },
  {
   "cell_type": "code",
   "execution_count": null,
   "id": "1235f929",
   "metadata": {},
   "outputs": [],
   "source": []
  }
 ],
 "metadata": {
  "kernelspec": {
   "display_name": "Python 3 (ipykernel)",
   "language": "python",
   "name": "python3"
  },
  "language_info": {
   "codemirror_mode": {
    "name": "ipython",
    "version": 3
   },
   "file_extension": ".py",
   "mimetype": "text/x-python",
   "name": "python",
   "nbconvert_exporter": "python",
   "pygments_lexer": "ipython3",
   "version": "3.9.7"
  }
 },
 "nbformat": 4,
 "nbformat_minor": 5
}
