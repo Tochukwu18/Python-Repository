{
 "cells": [
  {
   "cell_type": "markdown",
   "id": "7a7f22f5",
   "metadata": {},
   "source": [
    "Source: https://www.kaggle.com/benwieland/nba-draft-data\n",
    "        \n",
    "        \n",
    "blank column: An index of each unique row number.\n",
    "\n",
    "Rk and Pk: Corresponds to the pick with which a player was selected in the NBA draft.\n",
    "\n",
    "Tm: The NBA team that drafted a player.\n",
    "\n",
    "Player: The name of the player.\n",
    "\n",
    "College: The college an NBA draft pick attended. For international prospects, players who were drafted out of the G-League, and players who were drafted directly out of high school, this column is blank.\n",
    "\n",
    "Yrs: Years spent in the NBA. NA for players who did not play a single season.\n",
    "\n",
    "G: Games played in the NBA. NA for players who did not play a single game.\n",
    "\n",
    "TOTMP: Total minutes played in the NBA. NA for players who did not play a single minute.\n",
    "\n",
    "TOTPTS: Total points scored in the NBA. NA for players who did not play in the NBA; 0 for players who did but failed to record a point.\n",
    "\n",
    "TOTTRB: Total rebounds grabbed in the NBA. NA for players who did not play in the NBA; 0 for players who did but failed to record a rebound.\n",
    "\n",
    "TOTAST: Total assists recorded in the NBA. NA for players who did not play in the NBA; 0 for players who did but failed to record an assist.\n",
    "\n",
    "FG%: Field goal percentage in the NBA. NA for players who did not play in the NBA\n",
    "\n",
    "3P%: Three point percentage in the NBA. NA for players who did not play in the NBA\n",
    "\n",
    "FT%: Free throw percentage in the NBA. NA for players who did not play in the NBA\n",
    "\n",
    "WS: Win shares in the NBA, using Basketball-Reference's Win Shares. NA for players who did not play in the NBA\n",
    "\n",
    "WS/48: Win shares in the NBA per 48 minutes, using Basketball-Reference's Win Shares. NA for players who did not play in the NBA\n",
    "\n",
    "BPM: Box plus-minus in the NBA, using Basketball-Reference. NA for players who did not play in the NBA\n",
    "\n",
    "VORP Value over replacement player, using Basketball-Reference. NA for players who did not play in the NBA\n",
    "DraftYr and DraftYear: Duplicate variables for the year a player was drafted.\n",
    "\n",
    "playerurl: A player's college Sports-Reference statistics page link. NA for players from high school/G-League/international.\n",
    "\n",
    "MPG, PPG, RPG, APG: Per game statistics computed from totals columns. NA for players who did not play in the NBA."
   ]
  },
  {
   "cell_type": "code",
   "execution_count": 50,
   "id": "bdf82fbf",
   "metadata": {},
   "outputs": [],
   "source": [
    "import numpy as np\n",
    "import pandas as pd\n",
    "import matplotlib.pyplot as plt\n",
    "import seaborn as sns\n",
    "sns.set_style('darkgrid')\n",
    "%matplotlib inline"
   ]
  },
  {
   "cell_type": "code",
   "execution_count": 82,
   "id": "86f55df9",
   "metadata": {},
   "outputs": [],
   "source": [
    "data=pd.read_csv('draft-data-20-years.csv',index_col=0)"
   ]
  },
  {
   "cell_type": "code",
   "execution_count": 83,
   "id": "fc84bf6b",
   "metadata": {},
   "outputs": [
    {
     "data": {
      "text/html": [
       "<div>\n",
       "<style scoped>\n",
       "    .dataframe tbody tr th:only-of-type {\n",
       "        vertical-align: middle;\n",
       "    }\n",
       "\n",
       "    .dataframe tbody tr th {\n",
       "        vertical-align: top;\n",
       "    }\n",
       "\n",
       "    .dataframe thead th {\n",
       "        text-align: right;\n",
       "    }\n",
       "</style>\n",
       "<table border=\"1\" class=\"dataframe\">\n",
       "  <thead>\n",
       "    <tr style=\"text-align: right;\">\n",
       "      <th></th>\n",
       "      <th>Rk</th>\n",
       "      <th>Pk</th>\n",
       "      <th>Tm</th>\n",
       "      <th>Player</th>\n",
       "      <th>College</th>\n",
       "      <th>Yrs</th>\n",
       "      <th>G</th>\n",
       "      <th>TOTMP</th>\n",
       "      <th>TOTPTS</th>\n",
       "      <th>TOTTRB</th>\n",
       "      <th>...</th>\n",
       "      <th>WS/48</th>\n",
       "      <th>BPM</th>\n",
       "      <th>VORP</th>\n",
       "      <th>DraftYr</th>\n",
       "      <th>MPG</th>\n",
       "      <th>PPG</th>\n",
       "      <th>RPG</th>\n",
       "      <th>APG</th>\n",
       "      <th>playerurl</th>\n",
       "      <th>DraftYear</th>\n",
       "    </tr>\n",
       "  </thead>\n",
       "  <tbody>\n",
       "    <tr>\n",
       "      <th>1</th>\n",
       "      <td>1</td>\n",
       "      <td>1</td>\n",
       "      <td>BRK</td>\n",
       "      <td>Derrick Coleman</td>\n",
       "      <td>Syracuse</td>\n",
       "      <td>15.0</td>\n",
       "      <td>781.0</td>\n",
       "      <td>25903.0</td>\n",
       "      <td>12884.0</td>\n",
       "      <td>7232.0</td>\n",
       "      <td>...</td>\n",
       "      <td>0.119</td>\n",
       "      <td>1.4</td>\n",
       "      <td>22.3</td>\n",
       "      <td>1990</td>\n",
       "      <td>33.2</td>\n",
       "      <td>16.5</td>\n",
       "      <td>9.3</td>\n",
       "      <td>2.5</td>\n",
       "      <td>https://www.sports-reference.com/cbb/players/d...</td>\n",
       "      <td>1990</td>\n",
       "    </tr>\n",
       "    <tr>\n",
       "      <th>2</th>\n",
       "      <td>2</td>\n",
       "      <td>2</td>\n",
       "      <td>OKC</td>\n",
       "      <td>Gary Payton</td>\n",
       "      <td>Oregon State</td>\n",
       "      <td>17.0</td>\n",
       "      <td>1335.0</td>\n",
       "      <td>47117.0</td>\n",
       "      <td>21813.0</td>\n",
       "      <td>5269.0</td>\n",
       "      <td>...</td>\n",
       "      <td>0.148</td>\n",
       "      <td>3.3</td>\n",
       "      <td>62.5</td>\n",
       "      <td>1990</td>\n",
       "      <td>35.3</td>\n",
       "      <td>16.3</td>\n",
       "      <td>3.9</td>\n",
       "      <td>6.7</td>\n",
       "      <td>https://www.sports-reference.com/cbb/players/g...</td>\n",
       "      <td>1990</td>\n",
       "    </tr>\n",
       "  </tbody>\n",
       "</table>\n",
       "<p>2 rows × 25 columns</p>\n",
       "</div>"
      ],
      "text/plain": [
       "   Rk  Pk   Tm           Player       College   Yrs       G    TOTMP   TOTPTS  \\\n",
       "1   1   1  BRK  Derrick Coleman      Syracuse  15.0   781.0  25903.0  12884.0   \n",
       "2   2   2  OKC      Gary Payton  Oregon State  17.0  1335.0  47117.0  21813.0   \n",
       "\n",
       "   TOTTRB  ...  WS/48  BPM  VORP  DraftYr   MPG   PPG  RPG  APG  \\\n",
       "1  7232.0  ...  0.119  1.4  22.3     1990  33.2  16.5  9.3  2.5   \n",
       "2  5269.0  ...  0.148  3.3  62.5     1990  35.3  16.3  3.9  6.7   \n",
       "\n",
       "                                           playerurl  DraftYear  \n",
       "1  https://www.sports-reference.com/cbb/players/d...       1990  \n",
       "2  https://www.sports-reference.com/cbb/players/g...       1990  \n",
       "\n",
       "[2 rows x 25 columns]"
      ]
     },
     "execution_count": 83,
     "metadata": {},
     "output_type": "execute_result"
    }
   ],
   "source": [
    "data.head(2)"
   ]
  },
  {
   "cell_type": "code",
   "execution_count": 84,
   "id": "85d8c2b8",
   "metadata": {},
   "outputs": [
    {
     "data": {
      "text/html": [
       "<div>\n",
       "<style scoped>\n",
       "    .dataframe tbody tr th:only-of-type {\n",
       "        vertical-align: middle;\n",
       "    }\n",
       "\n",
       "    .dataframe tbody tr th {\n",
       "        vertical-align: top;\n",
       "    }\n",
       "\n",
       "    .dataframe thead th {\n",
       "        text-align: right;\n",
       "    }\n",
       "</style>\n",
       "<table border=\"1\" class=\"dataframe\">\n",
       "  <thead>\n",
       "    <tr style=\"text-align: right;\">\n",
       "      <th></th>\n",
       "      <th>Rk</th>\n",
       "      <th>Pk</th>\n",
       "      <th>Tm</th>\n",
       "      <th>Player</th>\n",
       "      <th>College</th>\n",
       "      <th>Yrs</th>\n",
       "      <th>G</th>\n",
       "      <th>TOTMP</th>\n",
       "      <th>TOTPTS</th>\n",
       "      <th>TOTTRB</th>\n",
       "      <th>...</th>\n",
       "      <th>WS/48</th>\n",
       "      <th>BPM</th>\n",
       "      <th>VORP</th>\n",
       "      <th>DraftYr</th>\n",
       "      <th>MPG</th>\n",
       "      <th>PPG</th>\n",
       "      <th>RPG</th>\n",
       "      <th>APG</th>\n",
       "      <th>playerurl</th>\n",
       "      <th>DraftYear</th>\n",
       "    </tr>\n",
       "  </thead>\n",
       "  <tbody>\n",
       "    <tr>\n",
       "      <th>1867</th>\n",
       "      <td>59</td>\n",
       "      <td>59</td>\n",
       "      <td>BRK</td>\n",
       "      <td>RaiQuan Gray</td>\n",
       "      <td>Florida State</td>\n",
       "      <td>NaN</td>\n",
       "      <td>NaN</td>\n",
       "      <td>NaN</td>\n",
       "      <td>NaN</td>\n",
       "      <td>NaN</td>\n",
       "      <td>...</td>\n",
       "      <td>NaN</td>\n",
       "      <td>NaN</td>\n",
       "      <td>NaN</td>\n",
       "      <td>2021</td>\n",
       "      <td>NaN</td>\n",
       "      <td>NaN</td>\n",
       "      <td>NaN</td>\n",
       "      <td>NaN</td>\n",
       "      <td>https://www.sports-reference.com/cbb/players/r...</td>\n",
       "      <td>2021</td>\n",
       "    </tr>\n",
       "    <tr>\n",
       "      <th>1868</th>\n",
       "      <td>60</td>\n",
       "      <td>60</td>\n",
       "      <td>IND</td>\n",
       "      <td>Georgios Kalaitzakis</td>\n",
       "      <td>NaN</td>\n",
       "      <td>1.0</td>\n",
       "      <td>9.0</td>\n",
       "      <td>48.0</td>\n",
       "      <td>16.0</td>\n",
       "      <td>8.0</td>\n",
       "      <td>...</td>\n",
       "      <td>-0.005</td>\n",
       "      <td>-8.0</td>\n",
       "      <td>-0.1</td>\n",
       "      <td>2021</td>\n",
       "      <td>5.3</td>\n",
       "      <td>1.8</td>\n",
       "      <td>0.9</td>\n",
       "      <td>0.0</td>\n",
       "      <td>NaN</td>\n",
       "      <td>2021</td>\n",
       "    </tr>\n",
       "  </tbody>\n",
       "</table>\n",
       "<p>2 rows × 25 columns</p>\n",
       "</div>"
      ],
      "text/plain": [
       "      Rk  Pk   Tm                Player        College  Yrs    G  TOTMP  \\\n",
       "1867  59  59  BRK          RaiQuan Gray  Florida State  NaN  NaN    NaN   \n",
       "1868  60  60  IND  Georgios Kalaitzakis            NaN  1.0  9.0   48.0   \n",
       "\n",
       "      TOTPTS  TOTTRB  ...  WS/48  BPM  VORP  DraftYr  MPG  PPG  RPG  APG  \\\n",
       "1867     NaN     NaN  ...    NaN  NaN   NaN     2021  NaN  NaN  NaN  NaN   \n",
       "1868    16.0     8.0  ... -0.005 -8.0  -0.1     2021  5.3  1.8  0.9  0.0   \n",
       "\n",
       "                                              playerurl  DraftYear  \n",
       "1867  https://www.sports-reference.com/cbb/players/r...       2021  \n",
       "1868                                                NaN       2021  \n",
       "\n",
       "[2 rows x 25 columns]"
      ]
     },
     "execution_count": 84,
     "metadata": {},
     "output_type": "execute_result"
    }
   ],
   "source": [
    "data.tail(2)"
   ]
  },
  {
   "cell_type": "code",
   "execution_count": 89,
   "id": "a762a70c",
   "metadata": {},
   "outputs": [],
   "source": [
    "data.rename(columns={'Yrs': 'Years spent in the NBA',\n",
    "                     'Tm':'Team',\n",
    "                     'TOTMP':'Total Minutes Played',\n",
    "                     'TOTPTS':'Total Points Scored',\n",
    "                     'TOTTRB':'Total rebounds grabbed',\n",
    "                     'TOTAST':'Total assists recorded',\n",
    "                     'FG%':' Field goal percentage',\n",
    "                     '3P%': 'Three point percentage',\n",
    "                     'FT%': 'Free throw percentage',\n",
    "                     'WS': 'Win shares',\n",
    "                     'WS/48': 'Win shares in the NBA per 48 minutes',\n",
    "                     'BPM': 'Box plus-minus',\n",
    "                     'VORP': 'Value over replacement player',\n",
    "                     },inplace=True)"
   ]
  },
  {
   "cell_type": "code",
   "execution_count": 85,
   "id": "87072ddd",
   "metadata": {},
   "outputs": [
    {
     "data": {
      "text/plain": [
       "Index(['Rk', 'Pk', 'Tm', 'Player', 'College', 'Yrs', 'G', 'TOTMP', 'TOTPTS',\n",
       "       'TOTTRB', 'TOTAST', 'FG%', '3P%', 'FT%', 'WS', 'WS/48', 'BPM', 'VORP',\n",
       "       'DraftYr', 'MPG', 'PPG', 'RPG', 'APG', 'playerurl', 'DraftYear'],\n",
       "      dtype='object')"
      ]
     },
     "execution_count": 85,
     "metadata": {},
     "output_type": "execute_result"
    }
   ],
   "source": [
    "data.columns"
   ]
  },
  {
   "cell_type": "code",
   "execution_count": 86,
   "id": "b075963e",
   "metadata": {},
   "outputs": [
    {
     "data": {
      "text/plain": [
       "(1868, 25)"
      ]
     },
     "execution_count": 86,
     "metadata": {},
     "output_type": "execute_result"
    }
   ],
   "source": [
    "data.shape"
   ]
  },
  {
   "cell_type": "code",
   "execution_count": 70,
   "id": "6f2aa3ee",
   "metadata": {},
   "outputs": [
    {
     "name": "stdout",
     "output_type": "stream",
     "text": [
      "<class 'pandas.core.frame.DataFrame'>\n",
      "Int64Index: 1868 entries, 1 to 60\n",
      "Data columns (total 25 columns):\n",
      " #   Column                                Non-Null Count  Dtype  \n",
      "---  ------                                --------------  -----  \n",
      " 0   Unnamed: 0                            1868 non-null   int64  \n",
      " 1   Pk                                    1868 non-null   int64  \n",
      " 2   Tm                                    1868 non-null   object \n",
      " 3   Player                                1868 non-null   object \n",
      " 4   College                               1868 non-null   object \n",
      " 5   Yrs                                   1868 non-null   float64\n",
      " 6   G                                     1868 non-null   float64\n",
      " 7   Total Minutes Played                  1868 non-null   float64\n",
      " 8   Total Points Scored                   1868 non-null   float64\n",
      " 9   Total rebounds grabbed                1868 non-null   float64\n",
      " 10  Total assists recorded                1868 non-null   float64\n",
      " 11   Field goal percentage                1868 non-null   float64\n",
      " 12  Three point percentage                1868 non-null   float64\n",
      " 13  Free throw percentage                 1868 non-null   float64\n",
      " 14  Win shares                            1868 non-null   float64\n",
      " 15  Win shares in the NBA per 48 minutes  1868 non-null   float64\n",
      " 16  Box plus-minus                        1868 non-null   float64\n",
      " 17  Value over replacement player         1868 non-null   float64\n",
      " 18  DraftYr                               1868 non-null   int64  \n",
      " 19  MPG                                   1868 non-null   float64\n",
      " 20  PPG                                   1868 non-null   float64\n",
      " 21  RPG                                   1868 non-null   float64\n",
      " 22  APG                                   1868 non-null   float64\n",
      " 23  playerurl                             1868 non-null   object \n",
      " 24  DraftYear                             1868 non-null   int64  \n",
      "dtypes: float64(17), int64(4), object(4)\n",
      "memory usage: 379.4+ KB\n"
     ]
    }
   ],
   "source": [
    "data.info()"
   ]
  },
  {
   "cell_type": "code",
   "execution_count": 69,
   "id": "b603caf3",
   "metadata": {},
   "outputs": [
    {
     "data": {
      "text/html": [
       "<div>\n",
       "<style scoped>\n",
       "    .dataframe tbody tr th:only-of-type {\n",
       "        vertical-align: middle;\n",
       "    }\n",
       "\n",
       "    .dataframe tbody tr th {\n",
       "        vertical-align: top;\n",
       "    }\n",
       "\n",
       "    .dataframe thead th {\n",
       "        text-align: right;\n",
       "    }\n",
       "</style>\n",
       "<table border=\"1\" class=\"dataframe\">\n",
       "  <thead>\n",
       "    <tr style=\"text-align: right;\">\n",
       "      <th></th>\n",
       "      <th>Unnamed: 0</th>\n",
       "      <th>Pk</th>\n",
       "      <th>Yrs</th>\n",
       "      <th>G</th>\n",
       "      <th>Total Minutes Played</th>\n",
       "      <th>Total Points Scored</th>\n",
       "      <th>Total rebounds grabbed</th>\n",
       "      <th>Total assists recorded</th>\n",
       "      <th>Field goal percentage</th>\n",
       "      <th>Three point percentage</th>\n",
       "      <th>...</th>\n",
       "      <th>Win shares</th>\n",
       "      <th>Win shares in the NBA per 48 minutes</th>\n",
       "      <th>Box plus-minus</th>\n",
       "      <th>Value over replacement player</th>\n",
       "      <th>DraftYr</th>\n",
       "      <th>MPG</th>\n",
       "      <th>PPG</th>\n",
       "      <th>RPG</th>\n",
       "      <th>APG</th>\n",
       "      <th>DraftYear</th>\n",
       "    </tr>\n",
       "  </thead>\n",
       "  <tbody>\n",
       "    <tr>\n",
       "      <th>count</th>\n",
       "      <td>1868.00000</td>\n",
       "      <td>1868.000000</td>\n",
       "      <td>1868.000000</td>\n",
       "      <td>1868.000000</td>\n",
       "      <td>1868.000000</td>\n",
       "      <td>1868.000000</td>\n",
       "      <td>1868.000000</td>\n",
       "      <td>1868.000000</td>\n",
       "      <td>1868.000000</td>\n",
       "      <td>1868.000000</td>\n",
       "      <td>...</td>\n",
       "      <td>1868.000000</td>\n",
       "      <td>1868.000000</td>\n",
       "      <td>1868.000000</td>\n",
       "      <td>1868.000000</td>\n",
       "      <td>1868.000000</td>\n",
       "      <td>1868.000000</td>\n",
       "      <td>1868.000000</td>\n",
       "      <td>1868.000000</td>\n",
       "      <td>1868.000000</td>\n",
       "      <td>1868.000000</td>\n",
       "    </tr>\n",
       "    <tr>\n",
       "      <th>mean</th>\n",
       "      <td>934.50000</td>\n",
       "      <td>29.758030</td>\n",
       "      <td>5.471627</td>\n",
       "      <td>297.192719</td>\n",
       "      <td>7159.213062</td>\n",
       "      <td>3047.586188</td>\n",
       "      <td>1281.715203</td>\n",
       "      <td>654.505353</td>\n",
       "      <td>0.376804</td>\n",
       "      <td>0.219257</td>\n",
       "      <td>...</td>\n",
       "      <td>15.252302</td>\n",
       "      <td>0.052977</td>\n",
       "      <td>-2.023662</td>\n",
       "      <td>3.747752</td>\n",
       "      <td>2005.789079</td>\n",
       "      <td>15.655139</td>\n",
       "      <td>6.264186</td>\n",
       "      <td>2.764936</td>\n",
       "      <td>1.328747</td>\n",
       "      <td>2005.789079</td>\n",
       "    </tr>\n",
       "    <tr>\n",
       "      <th>std</th>\n",
       "      <td>539.38947</td>\n",
       "      <td>16.945052</td>\n",
       "      <td>4.822145</td>\n",
       "      <td>322.432189</td>\n",
       "      <td>9516.144614</td>\n",
       "      <td>4616.913748</td>\n",
       "      <td>1923.031618</td>\n",
       "      <td>1206.926893</td>\n",
       "      <td>0.168444</td>\n",
       "      <td>0.158107</td>\n",
       "      <td>...</td>\n",
       "      <td>26.628617</td>\n",
       "      <td>0.092010</td>\n",
       "      <td>3.959389</td>\n",
       "      <td>10.723647</td>\n",
       "      <td>9.170436</td>\n",
       "      <td>10.173641</td>\n",
       "      <td>5.236463</td>\n",
       "      <td>2.227470</td>\n",
       "      <td>1.466481</td>\n",
       "      <td>9.170436</td>\n",
       "    </tr>\n",
       "    <tr>\n",
       "      <th>min</th>\n",
       "      <td>1.00000</td>\n",
       "      <td>1.000000</td>\n",
       "      <td>0.000000</td>\n",
       "      <td>0.000000</td>\n",
       "      <td>0.000000</td>\n",
       "      <td>0.000000</td>\n",
       "      <td>0.000000</td>\n",
       "      <td>0.000000</td>\n",
       "      <td>0.000000</td>\n",
       "      <td>0.000000</td>\n",
       "      <td>...</td>\n",
       "      <td>-1.900000</td>\n",
       "      <td>-1.264000</td>\n",
       "      <td>-52.000000</td>\n",
       "      <td>-8.500000</td>\n",
       "      <td>1990.000000</td>\n",
       "      <td>0.000000</td>\n",
       "      <td>0.000000</td>\n",
       "      <td>0.000000</td>\n",
       "      <td>0.000000</td>\n",
       "      <td>1990.000000</td>\n",
       "    </tr>\n",
       "    <tr>\n",
       "      <th>25%</th>\n",
       "      <td>467.75000</td>\n",
       "      <td>15.000000</td>\n",
       "      <td>2.000000</td>\n",
       "      <td>30.000000</td>\n",
       "      <td>246.250000</td>\n",
       "      <td>81.750000</td>\n",
       "      <td>38.000000</td>\n",
       "      <td>13.000000</td>\n",
       "      <td>0.371000</td>\n",
       "      <td>0.000000</td>\n",
       "      <td>...</td>\n",
       "      <td>0.000000</td>\n",
       "      <td>0.000750</td>\n",
       "      <td>-3.600000</td>\n",
       "      <td>-0.300000</td>\n",
       "      <td>1998.000000</td>\n",
       "      <td>7.600000</td>\n",
       "      <td>2.300000</td>\n",
       "      <td>1.100000</td>\n",
       "      <td>0.300000</td>\n",
       "      <td>1998.000000</td>\n",
       "    </tr>\n",
       "    <tr>\n",
       "      <th>50%</th>\n",
       "      <td>934.50000</td>\n",
       "      <td>30.000000</td>\n",
       "      <td>4.000000</td>\n",
       "      <td>159.000000</td>\n",
       "      <td>2600.000000</td>\n",
       "      <td>894.500000</td>\n",
       "      <td>410.500000</td>\n",
       "      <td>164.000000</td>\n",
       "      <td>0.425000</td>\n",
       "      <td>0.286000</td>\n",
       "      <td>...</td>\n",
       "      <td>2.900000</td>\n",
       "      <td>0.058000</td>\n",
       "      <td>-1.600000</td>\n",
       "      <td>0.000000</td>\n",
       "      <td>2006.000000</td>\n",
       "      <td>15.600000</td>\n",
       "      <td>5.200000</td>\n",
       "      <td>2.400000</td>\n",
       "      <td>0.800000</td>\n",
       "      <td>2006.000000</td>\n",
       "    </tr>\n",
       "    <tr>\n",
       "      <th>75%</th>\n",
       "      <td>1401.25000</td>\n",
       "      <td>44.000000</td>\n",
       "      <td>9.000000</td>\n",
       "      <td>506.000000</td>\n",
       "      <td>11348.250000</td>\n",
       "      <td>4251.750000</td>\n",
       "      <td>1817.750000</td>\n",
       "      <td>736.250000</td>\n",
       "      <td>0.464250</td>\n",
       "      <td>0.347000</td>\n",
       "      <td>...</td>\n",
       "      <td>20.200000</td>\n",
       "      <td>0.097000</td>\n",
       "      <td>0.000000</td>\n",
       "      <td>3.000000</td>\n",
       "      <td>2014.000000</td>\n",
       "      <td>23.500000</td>\n",
       "      <td>9.100000</td>\n",
       "      <td>3.900000</td>\n",
       "      <td>1.800000</td>\n",
       "      <td>2014.000000</td>\n",
       "    </tr>\n",
       "    <tr>\n",
       "      <th>max</th>\n",
       "      <td>1868.00000</td>\n",
       "      <td>60.000000</td>\n",
       "      <td>22.000000</td>\n",
       "      <td>1541.000000</td>\n",
       "      <td>51563.000000</td>\n",
       "      <td>36559.000000</td>\n",
       "      <td>15091.000000</td>\n",
       "      <td>12091.000000</td>\n",
       "      <td>1.000000</td>\n",
       "      <td>1.000000</td>\n",
       "      <td>...</td>\n",
       "      <td>248.300000</td>\n",
       "      <td>1.442000</td>\n",
       "      <td>51.100000</td>\n",
       "      <td>141.400000</td>\n",
       "      <td>2021.000000</td>\n",
       "      <td>41.100000</td>\n",
       "      <td>27.100000</td>\n",
       "      <td>13.400000</td>\n",
       "      <td>9.500000</td>\n",
       "      <td>2021.000000</td>\n",
       "    </tr>\n",
       "  </tbody>\n",
       "</table>\n",
       "<p>8 rows × 21 columns</p>\n",
       "</div>"
      ],
      "text/plain": [
       "       Unnamed: 0           Pk          Yrs            G  \\\n",
       "count  1868.00000  1868.000000  1868.000000  1868.000000   \n",
       "mean    934.50000    29.758030     5.471627   297.192719   \n",
       "std     539.38947    16.945052     4.822145   322.432189   \n",
       "min       1.00000     1.000000     0.000000     0.000000   \n",
       "25%     467.75000    15.000000     2.000000    30.000000   \n",
       "50%     934.50000    30.000000     4.000000   159.000000   \n",
       "75%    1401.25000    44.000000     9.000000   506.000000   \n",
       "max    1868.00000    60.000000    22.000000  1541.000000   \n",
       "\n",
       "       Total Minutes Played  Total Points Scored  Total rebounds grabbed  \\\n",
       "count           1868.000000          1868.000000             1868.000000   \n",
       "mean            7159.213062          3047.586188             1281.715203   \n",
       "std             9516.144614          4616.913748             1923.031618   \n",
       "min                0.000000             0.000000                0.000000   \n",
       "25%              246.250000            81.750000               38.000000   \n",
       "50%             2600.000000           894.500000              410.500000   \n",
       "75%            11348.250000          4251.750000             1817.750000   \n",
       "max            51563.000000         36559.000000            15091.000000   \n",
       "\n",
       "       Total assists recorded   Field goal percentage  Three point percentage  \\\n",
       "count             1868.000000             1868.000000             1868.000000   \n",
       "mean               654.505353                0.376804                0.219257   \n",
       "std               1206.926893                0.168444                0.158107   \n",
       "min                  0.000000                0.000000                0.000000   \n",
       "25%                 13.000000                0.371000                0.000000   \n",
       "50%                164.000000                0.425000                0.286000   \n",
       "75%                736.250000                0.464250                0.347000   \n",
       "max              12091.000000                1.000000                1.000000   \n",
       "\n",
       "       ...   Win shares  Win shares in the NBA per 48 minutes  Box plus-minus  \\\n",
       "count  ...  1868.000000                           1868.000000     1868.000000   \n",
       "mean   ...    15.252302                              0.052977       -2.023662   \n",
       "std    ...    26.628617                              0.092010        3.959389   \n",
       "min    ...    -1.900000                             -1.264000      -52.000000   \n",
       "25%    ...     0.000000                              0.000750       -3.600000   \n",
       "50%    ...     2.900000                              0.058000       -1.600000   \n",
       "75%    ...    20.200000                              0.097000        0.000000   \n",
       "max    ...   248.300000                              1.442000       51.100000   \n",
       "\n",
       "       Value over replacement player      DraftYr          MPG          PPG  \\\n",
       "count                    1868.000000  1868.000000  1868.000000  1868.000000   \n",
       "mean                        3.747752  2005.789079    15.655139     6.264186   \n",
       "std                        10.723647     9.170436    10.173641     5.236463   \n",
       "min                        -8.500000  1990.000000     0.000000     0.000000   \n",
       "25%                        -0.300000  1998.000000     7.600000     2.300000   \n",
       "50%                         0.000000  2006.000000    15.600000     5.200000   \n",
       "75%                         3.000000  2014.000000    23.500000     9.100000   \n",
       "max                       141.400000  2021.000000    41.100000    27.100000   \n",
       "\n",
       "               RPG          APG    DraftYear  \n",
       "count  1868.000000  1868.000000  1868.000000  \n",
       "mean      2.764936     1.328747  2005.789079  \n",
       "std       2.227470     1.466481     9.170436  \n",
       "min       0.000000     0.000000  1990.000000  \n",
       "25%       1.100000     0.300000  1998.000000  \n",
       "50%       2.400000     0.800000  2006.000000  \n",
       "75%       3.900000     1.800000  2014.000000  \n",
       "max      13.400000     9.500000  2021.000000  \n",
       "\n",
       "[8 rows x 21 columns]"
      ]
     },
     "execution_count": 69,
     "metadata": {},
     "output_type": "execute_result"
    }
   ],
   "source": [
    "data.describe()"
   ]
  },
  {
   "cell_type": "code",
   "execution_count": 36,
   "id": "06d74ff9",
   "metadata": {},
   "outputs": [
    {
     "data": {
      "text/plain": [
       "Unnamed: 0      0\n",
       "Pk              0\n",
       "Tm              0\n",
       "Player          0\n",
       "College       335\n",
       "Yrs           247\n",
       "G             247\n",
       "TOTMP         247\n",
       "TOTPTS        247\n",
       "TOTTRB        247\n",
       "TOTAST        247\n",
       "FG%           252\n",
       "3P%           368\n",
       "FT%           284\n",
       "WS            247\n",
       "WS/48         248\n",
       "BPM           248\n",
       "VORP          247\n",
       "DraftYr         0\n",
       "MPG           247\n",
       "PPG           247\n",
       "RPG           247\n",
       "APG           247\n",
       "playerurl     335\n",
       "DraftYear       0\n",
       "dtype: int64"
      ]
     },
     "execution_count": 36,
     "metadata": {},
     "output_type": "execute_result"
    }
   ],
   "source": [
    "data.isnull().sum()"
   ]
  },
  {
   "cell_type": "code",
   "execution_count": 37,
   "id": "2d1eabb3",
   "metadata": {},
   "outputs": [],
   "source": [
    "data.fillna(0,inplace=True)"
   ]
  },
  {
   "cell_type": "code",
   "execution_count": 38,
   "id": "f94863a3",
   "metadata": {},
   "outputs": [
    {
     "data": {
      "text/plain": [
       "Unnamed: 0    0\n",
       "Pk            0\n",
       "Tm            0\n",
       "Player        0\n",
       "College       0\n",
       "Yrs           0\n",
       "G             0\n",
       "TOTMP         0\n",
       "TOTPTS        0\n",
       "TOTTRB        0\n",
       "TOTAST        0\n",
       "FG%           0\n",
       "3P%           0\n",
       "FT%           0\n",
       "WS            0\n",
       "WS/48         0\n",
       "BPM           0\n",
       "VORP          0\n",
       "DraftYr       0\n",
       "MPG           0\n",
       "PPG           0\n",
       "RPG           0\n",
       "APG           0\n",
       "playerurl     0\n",
       "DraftYear     0\n",
       "dtype: int64"
      ]
     },
     "execution_count": 38,
     "metadata": {},
     "output_type": "execute_result"
    }
   ],
   "source": [
    "data.isnull().sum()"
   ]
  },
  {
   "cell_type": "code",
   "execution_count": 39,
   "id": "406195fd",
   "metadata": {},
   "outputs": [],
   "source": [
    "Year=data.groupby('DraftYear')"
   ]
  },
  {
   "cell_type": "code",
   "execution_count": 107,
   "id": "3395b6fd",
   "metadata": {},
   "outputs": [
    {
     "data": {
      "text/plain": [
       "<AxesSubplot:title={'center':'Number Of Players Drafted Each Season'}, xlabel='DraftYear'>"
      ]
     },
     "execution_count": 107,
     "metadata": {},
     "output_type": "execute_result"
    },
    {
     "data": {
      "image/png": "[encoded data removed]",
      "text/plain": [
       "<Figure size 720x288 with 1 Axes>"
      ]
     },
     "metadata": {
      "needs_background": "light"
     },
     "output_type": "display_data"
    }
   ],
   "source": [
    "plt.figure(figsize=(10,4))\n",
    "plt.title('Number Of Players Drafted Each Season')\n",
    "Year['Player'].count().plot(kind='line', color='red')"
   ]
  },
  {
   "cell_type": "code",
   "execution_count": 102,
   "id": "dcaefe3d",
   "metadata": {},
   "outputs": [
    {
     "data": {
      "text/plain": [
       "<AxesSubplot:title={'center':'Years Spent in the NBA against Draftyear'}, xlabel='DraftYear', ylabel='Years spent in the NBA'>"
      ]
     },
     "execution_count": 102,
     "metadata": {},
     "output_type": "execute_result"
    },
    {
     "data": {
      "image/png": "[encoded data removed]",
      "text/plain": [
       "<Figure size 720x288 with 1 Axes>"
      ]
     },
     "metadata": {
      "needs_background": "light"
     },
     "output_type": "display_data"
    }
   ],
   "source": [
    "plt.figure(figsize=(10,4))\n",
    "plt.title('Years Spent in the NBA against Draftyear')\n",
    "sns.lineplot(x='DraftYear',y='Years spent in the NBA', data=data, estimator='sum',color = 'red')"
   ]
  },
  {
   "cell_type": "code",
   "execution_count": 104,
   "id": "e5a04884",
   "metadata": {},
   "outputs": [
    {
     "data": {
      "text/plain": [
       "<AxesSubplot:title={'center':'Years Spent in the NBA against Draftyear'}, xlabel='DraftYear', ylabel='Total Minutes Played'>"
      ]
     },
     "execution_count": 104,
     "metadata": {},
     "output_type": "execute_result"
    },
    {
     "data": {
      "image/png": "[encoded data removed]",
      "text/plain": [
       "<Figure size 720x288 with 1 Axes>"
      ]
     },
     "metadata": {
      "needs_background": "light"
     },
     "output_type": "display_data"
    }
   ],
   "source": [
    "plt.figure(figsize=(10,4))\n",
    "plt.title('Years Spent in the NBA against Draftyear')\n",
    "sns.lineplot(x='DraftYear',y='Total Minutes Played', data=data, estimator='sum',legend=\"brief\",color = 'red')"
   ]
  },
  {
   "cell_type": "code",
   "execution_count": 103,
   "id": "c83e800a",
   "metadata": {},
   "outputs": [
    {
     "data": {
      "text/plain": [
       "<AxesSubplot:title={'center':'Years Spent in the NBA against Draftyear'}, xlabel='DraftYear', ylabel='Total Points Scored'>"
      ]
     },
     "execution_count": 103,
     "metadata": {},
     "output_type": "execute_result"
    },
    {
     "data": {
      "image/png": "[encoded data removed]",
      "text/plain": [
       "<Figure size 720x288 with 1 Axes>"
      ]
     },
     "metadata": {
      "needs_background": "light"
     },
     "output_type": "display_data"
    }
   ],
   "source": [
    "plt.figure(figsize=(10,4))\n",
    "plt.title('Years Spent in the NBA against Draftyear')\n",
    "sns.lineplot(x='DraftYear',y='Total Points Scored', data=data, estimator='sum',color = 'red')"
   ]
  },
  {
   "cell_type": "code",
   "execution_count": 92,
   "id": "90d58389",
   "metadata": {},
   "outputs": [
    {
     "data": {
      "text/html": [
       "<div>\n",
       "<style scoped>\n",
       "    .dataframe tbody tr th:only-of-type {\n",
       "        vertical-align: middle;\n",
       "    }\n",
       "\n",
       "    .dataframe tbody tr th {\n",
       "        vertical-align: top;\n",
       "    }\n",
       "\n",
       "    .dataframe thead th {\n",
       "        text-align: right;\n",
       "    }\n",
       "</style>\n",
       "<table border=\"1\" class=\"dataframe\">\n",
       "  <thead>\n",
       "    <tr style=\"text-align: right;\">\n",
       "      <th></th>\n",
       "      <th>Rk</th>\n",
       "      <th>Pk</th>\n",
       "      <th>Team</th>\n",
       "      <th>Player</th>\n",
       "      <th>College</th>\n",
       "      <th>Years spent in the NBA</th>\n",
       "      <th>G</th>\n",
       "      <th>Total Minutes Played</th>\n",
       "      <th>Total Points Scored</th>\n",
       "      <th>Total rebounds grabbed</th>\n",
       "      <th>...</th>\n",
       "      <th>Win shares in the NBA per 48 minutes</th>\n",
       "      <th>Box plus-minus</th>\n",
       "      <th>Value over replacement player</th>\n",
       "      <th>DraftYr</th>\n",
       "      <th>MPG</th>\n",
       "      <th>PPG</th>\n",
       "      <th>RPG</th>\n",
       "      <th>APG</th>\n",
       "      <th>playerurl</th>\n",
       "      <th>DraftYear</th>\n",
       "    </tr>\n",
       "  </thead>\n",
       "  <tbody>\n",
       "    <tr>\n",
       "      <th>1</th>\n",
       "      <td>1</td>\n",
       "      <td>1</td>\n",
       "      <td>BRK</td>\n",
       "      <td>Derrick Coleman</td>\n",
       "      <td>Syracuse</td>\n",
       "      <td>15.0</td>\n",
       "      <td>781.0</td>\n",
       "      <td>25903.0</td>\n",
       "      <td>12884.0</td>\n",
       "      <td>7232.0</td>\n",
       "      <td>...</td>\n",
       "      <td>0.119</td>\n",
       "      <td>1.4</td>\n",
       "      <td>22.3</td>\n",
       "      <td>1990</td>\n",
       "      <td>33.2</td>\n",
       "      <td>16.5</td>\n",
       "      <td>9.3</td>\n",
       "      <td>2.5</td>\n",
       "      <td>https://www.sports-reference.com/cbb/players/d...</td>\n",
       "      <td>1990</td>\n",
       "    </tr>\n",
       "  </tbody>\n",
       "</table>\n",
       "<p>1 rows × 25 columns</p>\n",
       "</div>"
      ],
      "text/plain": [
       "   Rk  Pk Team           Player   College  Years spent in the NBA      G  \\\n",
       "1   1   1  BRK  Derrick Coleman  Syracuse                    15.0  781.0   \n",
       "\n",
       "   Total Minutes Played  Total Points Scored  Total rebounds grabbed  ...  \\\n",
       "1               25903.0              12884.0                  7232.0  ...   \n",
       "\n",
       "   Win shares in the NBA per 48 minutes  Box plus-minus  \\\n",
       "1                                 0.119             1.4   \n",
       "\n",
       "   Value over replacement player  DraftYr   MPG   PPG  RPG  APG  \\\n",
       "1                           22.3     1990  33.2  16.5  9.3  2.5   \n",
       "\n",
       "                                           playerurl  DraftYear  \n",
       "1  https://www.sports-reference.com/cbb/players/d...       1990  \n",
       "\n",
       "[1 rows x 25 columns]"
      ]
     },
     "execution_count": 92,
     "metadata": {},
     "output_type": "execute_result"
    }
   ],
   "source": [
    "data.head(1)"
   ]
  },
  {
   "cell_type": "code",
   "execution_count": 122,
   "id": "986c103f",
   "metadata": {},
   "outputs": [
    {
     "name": "stderr",
     "output_type": "stream",
     "text": [
      "C:\\Users\\JOEL\\anaconda3\\lib\\site-packages\\seaborn\\regression.py:581: UserWarning: The `size` parameter has been renamed to `height`; please update your code.\n",
      "  warnings.warn(msg, UserWarning)\n"
     ]
    },
    {
     "data": {
      "text/plain": [
       "<seaborn.axisgrid.FacetGrid at 0x1bd95b75a00>"
      ]
     },
     "execution_count": 122,
     "metadata": {},
     "output_type": "execute_result"
    },
    {
     "data": {
      "text/plain": [
       "<Figure size 720x288 with 0 Axes>"
      ]
     },
     "metadata": {},
     "output_type": "display_data"
    },
    {
     "data": {
      "image/png": "[encoded data removed]",
      "text/plain": [
       "<Figure size 432x432 with 1 Axes>"
      ]
     },
     "metadata": {
      "needs_background": "light"
     },
     "output_type": "display_data"
    }
   ],
   "source": [
    "plt.figure(figsize=(10,4))\n",
    "sns.lmplot(x='Total Minutes Played', y='Total Points Scored', data=data, size=6,markers=[\"o\"])"
   ]
  },
  {
   "cell_type": "code",
   "execution_count": null,
   "id": "d8bfe17a",
   "metadata": {},
   "outputs": [],
   "source": []
  }
 ],
 "metadata": {
  "kernelspec": {
   "display_name": "Python 3 (ipykernel)",
   "language": "python",
   "name": "python3"
  },
  "language_info": {
   "codemirror_mode": {
    "name": "ipython",
    "version": 3
   },
   "file_extension": ".py",
   "mimetype": "text/x-python",
   "name": "python",
   "nbconvert_exporter": "python",
   "pygments_lexer": "ipython3",
   "version": "3.9.7"
  }
 },
 "nbformat": 4,
 "nbformat_minor": 5
}
